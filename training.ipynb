{
 "cells": [
  {
   "cell_type": "code",
   "execution_count": 1,
   "id": "55f7d396-d1bd-477d-ad53-a933914d6f9d",
   "metadata": {},
   "outputs": [],
   "source": [
    "import torch\n",
    "from torch.utils.data import DataLoader, Dataset\n",
    "from transformers import T5Tokenizer, T5ForConditionalGeneration, AdamW\n"
   ]
  },
  {
   "cell_type": "code",
   "execution_count": 2,
   "id": "77b59a91-9f08-4462-9da5-855e7446f1a4",
   "metadata": {},
   "outputs": [],
   "source": [
    "# Sample data\n",
    "data = [\n",
    "    {\n",
    "        \"context\": \"The small intestine is part of the bodyâ€™s digestive system, which also includes the esophagus, stomach, and large intestine. The digestive system removes and processes nutrients (vitamins, minerals, carbohydrates, fats, proteins, and water) from foods and helps pass waste material out of the body. The small intestine is a long tube that connects the stomach to the large intestine.   It folds many times to fit inside the abdomen. EnlargeThe small intestine connects the stomach and the colon. It includes the duodenum, jejunum, and ileum. The types of cancer found in the small intestine are adenocarcinoma, sarcoma,  carcinoid tumors,  gastrointestinal stromal tumor, and lymphoma. This summary discusses adenocarcinoma and leiomyosarcoma (a type of  sarcoma).  Adenocarcinoma starts in glandular cells in the lining of the small intestine and is the most common type of  small intestine cancer. Most of these tumors occur in the part of the small intestine near the stomach. They may grow and block the intestine. Leiomyosarcoma starts in the smooth muscle cells of the small intestine. Most of these tumors occur in the part of the small intestine near the large intestine.  For more information on small intestine cancer, see the following: Anything that increases your risk of getting a disease is called a risk factor.  Having a risk factor does not mean that you will get cancer; not having risk factors doesn't mean that you will not get cancer. Talk with your doctor if you think you may be at risk.  Risk factors for small intestine cancer include the following: These and other signs and symptoms may be caused by small  intestine cancer or by other conditions.  Check with your doctor if you have any of the  following:   Procedures that make pictures of the small intestine and the area around it help diagnose small intestine cancer and show how far the cancer has spread. The process used to find out if cancer cells have spread within and around the small intestine is called staging. In order to plan treatment, it is important to know  the type of small intestine cancer and whether the tumor can be removed by surgery. Tests and procedures to detect, diagnose, and stage small intestine cancer are usually done at the same time. The following tests and procedures may be used:  The prognosis and treatment options depend on the following:   Staging is used to find out how far the cancer has spread, but treatment decisions are not based on stage. See the General Information section for a description of tests and procedures used to detect, diagnose, and stage small intestine cancer. Cancer can spread through tissue, the lymph system, and the blood: When cancer spreads to another part of the body, it is called metastasis. Cancer cells break away from where they began (the primary tumor) and travel through the lymph system or blood. The metastatic tumor is the same type of cancer as the primary tumor. For example, if  small intestine cancer spreads to the liver, the cancer cells in the liver are actually small intestine cancer cells. The disease is metastatic small intestine cancer, not liver cancer. Treatment depends on whether the tumor can be removed by surgery and if the cancer is being treated as a primary tumor or is metastatic cancer. The cancer may come back in the small intestine or in other parts of the body. Different types of treatments are available for patients with small  intestine cancer. Some treatments are standard (the currently used treatment), and some are being tested in clinical trials.  A treatment clinical trial is a research study meant to help improve current treatments or obtain information on new treatments for patients with cancer. When clinical trials show that a new treatment is better than the   standard treatment,  the new treatment may become the standard treatment. Patients may want to think about taking part in a clinical trial. Some clinical trials are open only to patients who have not started treatment. Surgery is the most common treatment of small intestine cancer. One of the following types of surgery may be done: After the doctor removes all the cancer that can be seen at the time of the surgery, some patients may be given radiation therapy after surgery to kill any cancer cells that are left. Treatment given after the surgery, to lower the risk that the cancer will come back, is called adjuvant therapy. Radiation therapy is a cancer treatment that uses high-energy x-rays or other types of radiation to kill cancer cells or keep them from growing. There are two types of radiation therapy: The way the radiation therapy is given depends on the type of the cancer being treated.  External radiation therapy is used to treat small intestine cancer.  Chemotherapy is a cancer treatment that uses drugs to stop the growth of cancer cells, either by killing the cells or by stopping them from dividing.   When chemotherapy is taken by mouth or injected into a vein or muscle, the drugs enter the bloodstream and can reach cancer cells throughout the body (systemic chemotherapy). When chemotherapy is placed directly into the cerebrospinal fluid, an organ, or a body cavity such as the abdomen, the drugs mainly affect cancer cells in those areas (regional chemotherapy).  The way the chemotherapy is given depends on the type and stage of the cancer being treated.  This summary section describes treatments that are being studied in clinical trials. It may not mention every new treatment being studied. Information about clinical trials is available from the NCI website. Immunotherapy is a treatment that uses the patient's immune system to fight cancer.  Substances made by the body or made in a laboratory are used to boost, direct, or restore the body's natural defenses against cancer.  This cancer treatment is a type of biologic therapy. Radiosensitizers are drugs that make tumor cells more sensitive to radiation therapy. Combining radiation therapy with radiosensitizers may kill more tumor cells. For information about side effects caused by treatment for cancer, see our Side Effects page. For some patients, taking part in a clinical trial may be the best treatment choice. Clinical trials are part of the cancer research process. Clinical trials are done to find out if new cancer  treatments are safe and effective or better than the standard treatment. Many of today's standard treatments for cancer are based on earlier clinical trials. Patients who take part in a clinical trial may receive the standard treatment or be among the first  to receive a new treatment. Patients who take part in clinical trials also help improve the way cancer will be treated in the future. Even when clinical trials do not lead to effective new treatments, they often answer important questions and help move research forward. Some clinical trials only include patients who have not yet received treatment. Other trials test treatments for patients whose cancer has not gotten better. There are also clinical trials that test new ways to stop cancer from recurring (coming back) or reduce the side effects of cancer treatment. Clinical trials are taking place in many parts of the country. Information about clinical trials supported by NCI can be found on NCIâ€™s clinical trials search webpage. Clinical trials supported by other organizations can be found on the ClinicalTrials.gov website. Some of the tests that were done to diagnose the cancer or to find out the stage of the cancer may be repeated. Some tests will be repeated in order to see how well the treatment is working. Decisions about whether to continue, change, or stop treatment may be based on the results of these tests. Some of the tests will continue to be done from time to time after treatment has ended. The results of these tests can show if your condition has changed or if the cancer has recurred (come back). These tests are sometimes called follow-up tests or check-ups. For information about the treatments listed below, see the Treatment Option Overview section. When possible, treatment of small  intestine adenocarcinoma will be surgery to remove the tumor and some of the normal tissue around it. Treatment of small  intestine adenocarcinoma that cannot be removed by surgery may include the following: Use our clinical trial search to find NCI-supported cancer clinical trials that are accepting patients. You can search for trials based on the type of cancer, the age of the patient, and where the trials are being done. General information  about clinical trials is also available. For information about the treatments listed below, see the Treatment Option Overview section. When possible, treatment of small intestine leiomyosarcoma will be surgery to remove the tumor and some of the normal tissue around it. Treatment of small  intestine leiomyosarcoma that cannot be removed by surgery may include the following: Use our clinical trial search to find NCI-supported cancer clinical trials that are accepting patients. You can search for trials based on the type of cancer, the age of the patient, and where the trials are being done. General information  about clinical trials is also available. For information about the treatments listed below, see the Treatment Option Overview section. Treatment of recurrent small intestine cancer that has spread to other parts of the body is usually a clinical trial of new anticancer drugs or immunotherapy. Treatment of locally recurrent small  intestine cancer may include the following: Use our clinical trial search to find NCI-supported cancer clinical trials that are accepting patients. You can search for trials based on the type of cancer, the age of the patient, and where the trials are being done. General information  about clinical trials is also available. For more information from the National Cancer Institute about  small intestine cancer, see the following: For general cancer information and other resources from the National Cancer Institute, see the following: Physician Data Query (PDQ) is the National Cancer Institute's (NCI's) comprehensive cancer information database. The PDQ database contains summaries of the latest published information on cancer prevention, detection, genetics, treatment, supportive care, and complementary and alternative medicine. Most summaries come in two versions. The health professional versions have detailed information written in technical language. The patient versions are written in easy-to-understand, nontechnical language. Both versions have cancer information that is accurate and up to date and most versions are also available in Spanish. PDQ is a service of the NCI. The NCI is part of the National Institutes of Health (NIH). NIH is the federal governmentâ€™s center of biomedical research.  The PDQ summaries are based on an independent review of the medical literature. They are not policy statements of the NCI or the NIH. This PDQ cancer information summary has current information about the treatment of small intestine cancer.  It is meant to inform and help patients, families, and caregivers. It does not give formal guidelines or recommendations for making decisions about health care. Editorial Boards write the PDQ cancer information summaries and keep them up to date. These Boards are made up of experts in cancer treatment and other specialties related to cancer. The summaries are reviewed regularly and changes are made when there is new information. The date on each summary (\"\"Updated\"\") is the date of the most recent change. The information in this patient summary was taken from the health professional version, which is reviewed regularly and updated as needed, by the PDQ Adult Treatment Editorial Board. A clinical trial is a study to answer a scientific question, such as whether one treatment is better than another. Trials are based on past studies and what has been learned in the laboratory. Each trial answers certain scientific questions in order to find new and better ways to help cancer patients. During treatment clinical trials, information is collected about the effects of a new treatment and how well it works. If a clinical trial shows that a new treatment is better than one currently being used, the new treatment may become \"\"standard.\"\" Patients may want to think about taking part in a clinical trial. Some clinical trials are open only to patients who have not started treatment. Clinical trials can be found online at NCI's website. For more information, call the Cancer Information Service (CIS), NCI's contact center, at 1-800-4-CANCER (1-800-422-6237). PDQ is a registered trademark. The content of PDQ documents can be used freely as text. It cannot be identified as an NCI PDQ cancer information summary unless the whole summary is shown and it is updated regularly. However, a user would be allowed to write a sentence such as â€œNCIâ€™s PDQ cancer information summary about breast cancer prevention states the risks in the following way: [include excerpt from the summary].â€ The best way to cite this PDQ summary is: PDQÂ® Adult Treatment Editorial Board. PDQ Small Intestine Cancer Treatment. Bethesda, MD: National Cancer Institute. Updated  <MM/DD/YYYY>. Available at: https://www.cancer.gov/types/small-intestine/patient/small-intestine-treatment-pdq.  Accessed <MM/DD/YYYY>. [PMID: 26389461] Images in this summary are used with permission of the author(s), artist, and/or publisher for use in the PDQ summaries only. If you want to use an image from a PDQ summary and you are not using the whole summary, you must get permission from the owner. It cannot be given by the National Cancer Institute. Information about using the images in this summary, along with many other images related to cancer can be found in Visuals Online. Visuals Online is a collection of more than 3,000 scientific images. The information in these summaries should not be used to make decisions about insurance reimbursement. More information on insurance coverage is available on Cancer.gov on the Managing Cancer Care page. More information about contacting us or receiving help with the Cancer.gov website can be found on our Contact Us for Help page. Questions can also be submitted to Cancer.gov through the websiteâ€™s E-mail Us. If you would like to reproduce some or all of this content, see Reuse of NCI Information for guidance about copyright and permissions. In the case of permitted digital reproduction, please credit the National Cancer Institute as the source and link to the original NCI product using the original product's title; e.g., â€œSmall Intestine Cancer Treatment (PDQÂ®)â€“Patient Version was originally published by the National Cancer Institute.â€ Want to use this content on your website or other digital platform? Our syndication services page shows you how.\",\n",
    "        \"question\": \"What is small intestine cancer?\",\n",
    "        \"answer\": \"Key Points - Small intestine cancer is a rare disease in which malignant (cancer) cells form in the tissues of the small intestine.    - There are five types of small intestine cancer.    - Diet and health history can affect the risk of developing small intestine cancer.    - Signs and symptoms of small intestine cancer include unexplained weight loss and abdominal pain.    - Tests that examine the small intestine are used to detect (find), diagnose, and stage small intestine cancer.    - Certain factors affect prognosis (chance of recovery) and treatment options. Small intestine cancer is a rare disease in which malignant (cancer) cells form in the tissues of the small intestine. The small intestine is part of the bodys digestive system, which also includes the esophagus, stomach, and large intestine. The digestive system removes and processes nutrients (vitamins, minerals, carbohydrates, fats, proteins, and water) from foods and helps pass waste material out of the body. The small intestine is a long tube that connects the stomach to the large intestine. It folds many times to fit inside the abdomen. There are five types of small intestine cancer. The types of cancer found in the small intestine are adenocarcinoma, sarcoma, carcinoid tumors, gastrointestinal stromal tumor, and lymphoma. This summary discusses adenocarcinoma and leiomyosarcoma (a type of sarcoma).    Adenocarcinoma starts in glandular cells in the lining of the small intestine and is the most common type of small intestine cancer. Most of these tumors occur in the part of the small intestine near the stomach. They may grow and block the intestine.   Leiomyosarcoma starts in the smooth muscle cells of the small intestine. Most of these tumors occur in the part of the small intestine near the large intestine.    See the following PDQ summaries for more information on small intestine cancer:          -  Adult Soft Tissue Sarcoma Treatment     -  Childhood Soft Tissue Sarcoma Treatment     -  Adult Non-Hodgkin Lymphoma Treatment     -  Childhood Non-Hodgkin Lymphoma Treatment     -  Gastrointestinal Carcinoid Tumors Treatment     -  Gastrointestinal Stromal Tumors Treatment\"\n",
    "    },\n",
    "    # Add more data points as needed\n",
    "]"
   ]
  },
  {
   "cell_type": "code",
   "execution_count": 26,
   "id": "4fc7aebf-a391-4238-bda1-f9063aab8b0d",
   "metadata": {},
   "outputs": [
    {
     "name": "stdout",
     "output_type": "stream",
     "text": [
      "Defaulting to user installation because normal site-packages is not writeable\n",
      "Collecting sentencepiece\n",
      "  Downloading sentencepiece-0.1.99-cp310-cp310-manylinux_2_17_x86_64.manylinux2014_x86_64.whl (1.3 MB)\n",
      "\u001b[2K     \u001b[90m━━━━━━━━━━━━━━━━━━━━━━━━━━━━━━━━━━━━━━━━\u001b[0m \u001b[32m1.3/1.3 MB\u001b[0m \u001b[31m36.4 MB/s\u001b[0m eta \u001b[36m0:00:00\u001b[0m00:01\u001b[0m\n",
      "\u001b[?25hInstalling collected packages: sentencepiece\n",
      "Successfully installed sentencepiece-0.1.99\n"
     ]
    }
   ],
   "source": [
    "!pip install sentencepiece"
   ]
  },
  {
   "cell_type": "code",
   "execution_count": 3,
   "id": "81f1d40b-8f5e-4507-90cf-1d2512206b28",
   "metadata": {},
   "outputs": [
    {
     "data": {
      "application/vnd.jupyter.widget-view+json": {
       "model_id": "c23e243f68394f5aafbd5bbfb097c4a8",
       "version_major": 2,
       "version_minor": 0
      },
      "text/plain": [
       "Downloading (…)ve/main/spiece.model:   0%|          | 0.00/792k [00:00<?, ?B/s]"
      ]
     },
     "metadata": {},
     "output_type": "display_data"
    },
    {
     "data": {
      "application/vnd.jupyter.widget-view+json": {
       "model_id": "ae2be434d8c54f219d07d5a2996f3cc3",
       "version_major": 2,
       "version_minor": 0
      },
      "text/plain": [
       "Downloading (…)okenizer_config.json:   0%|          | 0.00/2.32k [00:00<?, ?B/s]"
      ]
     },
     "metadata": {},
     "output_type": "display_data"
    },
    {
     "name": "stderr",
     "output_type": "stream",
     "text": [
      "You are using the default legacy behaviour of the <class 'transformers.models.t5.tokenization_t5.T5Tokenizer'>. If you see this, DO NOT PANIC! This is expected, and simply means that the `legacy` (previous) behavior will be used so nothing changes for you. If you want to use the new behaviour, set `legacy=False`. This should only be set if you understand what it means, and thouroughly read the reason why this was added as explained in https://github.com/huggingface/transformers/pull/24565\n"
     ]
    },
    {
     "data": {
      "application/vnd.jupyter.widget-view+json": {
       "model_id": "f9e2827a764d4f5e832ad5ea9d34aab6",
       "version_major": 2,
       "version_minor": 0
      },
      "text/plain": [
       "Downloading (…)lve/main/config.json:   0%|          | 0.00/1.21k [00:00<?, ?B/s]"
      ]
     },
     "metadata": {},
     "output_type": "display_data"
    },
    {
     "data": {
      "application/vnd.jupyter.widget-view+json": {
       "model_id": "1af615e820a44d3b996edc63f94b0bad",
       "version_major": 2,
       "version_minor": 0
      },
      "text/plain": [
       "Downloading model.safetensors:   0%|          | 0.00/242M [00:00<?, ?B/s]"
      ]
     },
     "metadata": {},
     "output_type": "display_data"
    },
    {
     "data": {
      "application/vnd.jupyter.widget-view+json": {
       "model_id": "23a9362876c743509fe6964d05155c9a",
       "version_major": 2,
       "version_minor": 0
      },
      "text/plain": [
       "Downloading (…)neration_config.json:   0%|          | 0.00/147 [00:00<?, ?B/s]"
      ]
     },
     "metadata": {},
     "output_type": "display_data"
    }
   ],
   "source": [
    "# Initialize tokenizer and model\n",
    "tokenizer = T5Tokenizer.from_pretrained('t5-small')\n",
    "model = T5ForConditionalGeneration.from_pretrained('t5-small')"
   ]
  },
  {
   "cell_type": "code",
   "execution_count": 4,
   "id": "bbd08ab5-ed3f-4a5f-8434-8a4c60d8c5ac",
   "metadata": {},
   "outputs": [],
   "source": [
    "# Preprocess data and create dataset\n",
    "class QADataset(Dataset):\n",
    "    def __init__(self, data, tokenizer, max_length=512):\n",
    "        self.data = data\n",
    "        self.tokenizer = tokenizer\n",
    "        self.max_length = max_length\n",
    "\n",
    "    def __len__(self):\n",
    "        return len(self.data)\n",
    "\n",
    "    def __getitem__(self, idx):\n",
    "        context = self.data[idx][\"context\"]\n",
    "        question = self.data[idx][\"question\"]\n",
    "        answer = self.data[idx][\"answer\"]\n",
    "\n",
    "        input_text = f\"context: {context} question: {question}\"\n",
    "        target_text = answer\n",
    "\n",
    "        input_ids = self.tokenizer.encode(input_text, add_special_tokens=True, max_length=self.max_length, padding='max_length', truncation=True, return_tensors='pt')\n",
    "        target_ids = self.tokenizer.encode(target_text, add_special_tokens=True, max_length=self.max_length, padding='max_length', truncation=True, return_tensors='pt')\n",
    "\n",
    "        return {\n",
    "            'input_ids': input_ids.squeeze(),\n",
    "            'attention_mask': input_ids.squeeze().gt(0),\n",
    "            'labels': target_ids.squeeze()\n",
    "        }\n"
   ]
  },
  {
   "cell_type": "code",
   "execution_count": 5,
   "id": "c492ba4b-62e4-4339-8617-f5e0ef278459",
   "metadata": {},
   "outputs": [],
   "source": [
    "dataset = QADataset(data, tokenizer)\n",
    "train_loader = DataLoader(dataset, batch_size=2, shuffle=True)"
   ]
  },
  {
   "cell_type": "code",
   "execution_count": 6,
   "id": "ce30dc29-107e-49b9-8056-c065e3970954",
   "metadata": {},
   "outputs": [
    {
     "name": "stderr",
     "output_type": "stream",
     "text": [
      "/opt/miniconda3/lib/python3.10/site-packages/transformers/optimization.py:411: FutureWarning: This implementation of AdamW is deprecated and will be removed in a future version. Use the PyTorch implementation torch.optim.AdamW instead, or set `no_deprecation_warning=True` to disable this warning\n",
      "  warnings.warn(\n"
     ]
    },
    {
     "data": {
      "text/plain": [
       "T5ForConditionalGeneration(\n",
       "  (shared): Embedding(32128, 512)\n",
       "  (encoder): T5Stack(\n",
       "    (embed_tokens): Embedding(32128, 512)\n",
       "    (block): ModuleList(\n",
       "      (0): T5Block(\n",
       "        (layer): ModuleList(\n",
       "          (0): T5LayerSelfAttention(\n",
       "            (SelfAttention): T5Attention(\n",
       "              (q): Linear(in_features=512, out_features=512, bias=False)\n",
       "              (k): Linear(in_features=512, out_features=512, bias=False)\n",
       "              (v): Linear(in_features=512, out_features=512, bias=False)\n",
       "              (o): Linear(in_features=512, out_features=512, bias=False)\n",
       "              (relative_attention_bias): Embedding(32, 8)\n",
       "            )\n",
       "            (layer_norm): T5LayerNorm()\n",
       "            (dropout): Dropout(p=0.1, inplace=False)\n",
       "          )\n",
       "          (1): T5LayerFF(\n",
       "            (DenseReluDense): T5DenseActDense(\n",
       "              (wi): Linear(in_features=512, out_features=2048, bias=False)\n",
       "              (wo): Linear(in_features=2048, out_features=512, bias=False)\n",
       "              (dropout): Dropout(p=0.1, inplace=False)\n",
       "              (act): ReLU()\n",
       "            )\n",
       "            (layer_norm): T5LayerNorm()\n",
       "            (dropout): Dropout(p=0.1, inplace=False)\n",
       "          )\n",
       "        )\n",
       "      )\n",
       "      (1-5): 5 x T5Block(\n",
       "        (layer): ModuleList(\n",
       "          (0): T5LayerSelfAttention(\n",
       "            (SelfAttention): T5Attention(\n",
       "              (q): Linear(in_features=512, out_features=512, bias=False)\n",
       "              (k): Linear(in_features=512, out_features=512, bias=False)\n",
       "              (v): Linear(in_features=512, out_features=512, bias=False)\n",
       "              (o): Linear(in_features=512, out_features=512, bias=False)\n",
       "            )\n",
       "            (layer_norm): T5LayerNorm()\n",
       "            (dropout): Dropout(p=0.1, inplace=False)\n",
       "          )\n",
       "          (1): T5LayerFF(\n",
       "            (DenseReluDense): T5DenseActDense(\n",
       "              (wi): Linear(in_features=512, out_features=2048, bias=False)\n",
       "              (wo): Linear(in_features=2048, out_features=512, bias=False)\n",
       "              (dropout): Dropout(p=0.1, inplace=False)\n",
       "              (act): ReLU()\n",
       "            )\n",
       "            (layer_norm): T5LayerNorm()\n",
       "            (dropout): Dropout(p=0.1, inplace=False)\n",
       "          )\n",
       "        )\n",
       "      )\n",
       "    )\n",
       "    (final_layer_norm): T5LayerNorm()\n",
       "    (dropout): Dropout(p=0.1, inplace=False)\n",
       "  )\n",
       "  (decoder): T5Stack(\n",
       "    (embed_tokens): Embedding(32128, 512)\n",
       "    (block): ModuleList(\n",
       "      (0): T5Block(\n",
       "        (layer): ModuleList(\n",
       "          (0): T5LayerSelfAttention(\n",
       "            (SelfAttention): T5Attention(\n",
       "              (q): Linear(in_features=512, out_features=512, bias=False)\n",
       "              (k): Linear(in_features=512, out_features=512, bias=False)\n",
       "              (v): Linear(in_features=512, out_features=512, bias=False)\n",
       "              (o): Linear(in_features=512, out_features=512, bias=False)\n",
       "              (relative_attention_bias): Embedding(32, 8)\n",
       "            )\n",
       "            (layer_norm): T5LayerNorm()\n",
       "            (dropout): Dropout(p=0.1, inplace=False)\n",
       "          )\n",
       "          (1): T5LayerCrossAttention(\n",
       "            (EncDecAttention): T5Attention(\n",
       "              (q): Linear(in_features=512, out_features=512, bias=False)\n",
       "              (k): Linear(in_features=512, out_features=512, bias=False)\n",
       "              (v): Linear(in_features=512, out_features=512, bias=False)\n",
       "              (o): Linear(in_features=512, out_features=512, bias=False)\n",
       "            )\n",
       "            (layer_norm): T5LayerNorm()\n",
       "            (dropout): Dropout(p=0.1, inplace=False)\n",
       "          )\n",
       "          (2): T5LayerFF(\n",
       "            (DenseReluDense): T5DenseActDense(\n",
       "              (wi): Linear(in_features=512, out_features=2048, bias=False)\n",
       "              (wo): Linear(in_features=2048, out_features=512, bias=False)\n",
       "              (dropout): Dropout(p=0.1, inplace=False)\n",
       "              (act): ReLU()\n",
       "            )\n",
       "            (layer_norm): T5LayerNorm()\n",
       "            (dropout): Dropout(p=0.1, inplace=False)\n",
       "          )\n",
       "        )\n",
       "      )\n",
       "      (1-5): 5 x T5Block(\n",
       "        (layer): ModuleList(\n",
       "          (0): T5LayerSelfAttention(\n",
       "            (SelfAttention): T5Attention(\n",
       "              (q): Linear(in_features=512, out_features=512, bias=False)\n",
       "              (k): Linear(in_features=512, out_features=512, bias=False)\n",
       "              (v): Linear(in_features=512, out_features=512, bias=False)\n",
       "              (o): Linear(in_features=512, out_features=512, bias=False)\n",
       "            )\n",
       "            (layer_norm): T5LayerNorm()\n",
       "            (dropout): Dropout(p=0.1, inplace=False)\n",
       "          )\n",
       "          (1): T5LayerCrossAttention(\n",
       "            (EncDecAttention): T5Attention(\n",
       "              (q): Linear(in_features=512, out_features=512, bias=False)\n",
       "              (k): Linear(in_features=512, out_features=512, bias=False)\n",
       "              (v): Linear(in_features=512, out_features=512, bias=False)\n",
       "              (o): Linear(in_features=512, out_features=512, bias=False)\n",
       "            )\n",
       "            (layer_norm): T5LayerNorm()\n",
       "            (dropout): Dropout(p=0.1, inplace=False)\n",
       "          )\n",
       "          (2): T5LayerFF(\n",
       "            (DenseReluDense): T5DenseActDense(\n",
       "              (wi): Linear(in_features=512, out_features=2048, bias=False)\n",
       "              (wo): Linear(in_features=2048, out_features=512, bias=False)\n",
       "              (dropout): Dropout(p=0.1, inplace=False)\n",
       "              (act): ReLU()\n",
       "            )\n",
       "            (layer_norm): T5LayerNorm()\n",
       "            (dropout): Dropout(p=0.1, inplace=False)\n",
       "          )\n",
       "        )\n",
       "      )\n",
       "    )\n",
       "    (final_layer_norm): T5LayerNorm()\n",
       "    (dropout): Dropout(p=0.1, inplace=False)\n",
       "  )\n",
       "  (lm_head): Linear(in_features=512, out_features=32128, bias=False)\n",
       ")"
      ]
     },
     "execution_count": 6,
     "metadata": {},
     "output_type": "execute_result"
    }
   ],
   "source": [
    "# Initialize optimizer\n",
    "optimizer = AdamW(model.parameters(), lr=1e-4)\n",
    "\n",
    "# Training loop\n",
    "num_epochs = 5\n",
    "device = torch.device('cuda' if torch.cuda.is_available() else 'cpu')\n",
    "model.to(device)\n",
    "model.train()"
   ]
  },
  {
   "cell_type": "code",
   "execution_count": 7,
   "id": "75b9bc68-44c0-43d9-b825-f956044fbb95",
   "metadata": {},
   "outputs": [
    {
     "name": "stdout",
     "output_type": "stream",
     "text": [
      "Epoch 1/5, Loss: 10.3419\n",
      "Epoch 2/5, Loss: 7.3311\n",
      "Epoch 3/5, Loss: 4.7834\n",
      "Epoch 4/5, Loss: 3.1484\n",
      "Epoch 5/5, Loss: 3.0300\n"
     ]
    }
   ],
   "source": [
    "for epoch in range(num_epochs):\n",
    "    total_loss = 0\n",
    "    for batch in train_loader:\n",
    "        input_ids = batch['input_ids'].to(device)\n",
    "        attention_mask = batch['attention_mask'].to(device)\n",
    "        labels = batch['labels'].to(device)\n",
    "\n",
    "        outputs = model(input_ids=input_ids, attention_mask=attention_mask, labels=labels)\n",
    "        loss = outputs.loss\n",
    "        total_loss += loss.item()\n",
    "\n",
    "        optimizer.zero_grad()\n",
    "        loss.backward()\n",
    "        optimizer.step()\n",
    "\n",
    "    average_loss = total_loss / len(train_loader)\n",
    "    print(f'Epoch {epoch + 1}/{num_epochs}, Loss: {average_loss:.4f}')\n"
   ]
  },
  {
   "cell_type": "code",
   "execution_count": 8,
   "id": "55ff93b2-bfe7-4564-b224-9552419185d7",
   "metadata": {},
   "outputs": [
    {
     "data": {
      "text/plain": [
       "('generative_qa_model/tokenizer_config.json',\n",
       " 'generative_qa_model/special_tokens_map.json',\n",
       " 'generative_qa_model/spiece.model',\n",
       " 'generative_qa_model/added_tokens.json')"
      ]
     },
     "execution_count": 8,
     "metadata": {},
     "output_type": "execute_result"
    }
   ],
   "source": [
    "\n",
    "# Save the trained model\n",
    "model.save_pretrained('generative_qa_model')\n",
    "tokenizer.save_pretrained('generative_qa_model')"
   ]
  },
  {
   "cell_type": "code",
   "execution_count": 11,
   "id": "0234d598-6554-4e91-a251-256f2f249f9a",
   "metadata": {},
   "outputs": [
    {
     "name": "stdout",
     "output_type": "stream",
     "text": [
      "Generated Answer: small intestine cancer is a long tube that connects the stomach to the large intestine\n"
     ]
    }
   ],
   "source": [
    "import torch\n",
    "from transformers import T5Tokenizer, T5ForConditionalGeneration\n",
    "\n",
    "# Load tokenizer and model\n",
    "tokenizer = T5Tokenizer.from_pretrained('generative_qa_model')\n",
    "model = T5ForConditionalGeneration.from_pretrained('generative_qa_model')\n",
    "\n",
    "def generate_answer(context, question):\n",
    "    # Split the input context into chunks of maximum sequence length\n",
    "    max_seq_length = tokenizer.model_max_length\n",
    "    chunks = [context[i:i+max_seq_length] for i in range(0, len(context), max_seq_length)]\n",
    "\n",
    "    # Generate answers for each chunk\n",
    "    generated_answers = []\n",
    "    for chunk in chunks:\n",
    "        input_text = f\"context: {chunk} question: {question}\"\n",
    "        input_ids = tokenizer.encode(input_text, return_tensors=\"pt\", max_length=max_seq_length, truncation=True)\n",
    "\n",
    "        # Generate answer\n",
    "        with torch.no_grad():\n",
    "            output_ids = model.generate(input_ids, max_length=50, num_return_sequences=1)\n",
    "\n",
    "        # Decode and add the answer to the list\n",
    "        answer = tokenizer.decode(output_ids[0], skip_special_tokens=True)\n",
    "        generated_answers.append(answer)\n",
    "\n",
    "    # Concatenate answers from chunks\n",
    "    final_answer = \" \".join(generated_answers)\n",
    "    return final_answer\n",
    "\n",
    "# Example context and question\n",
    "context =  \"The small intestine is part of the bodyâ€™s digestive system, which also includes the esophagus, stomach, and large intestine. The digestive system removes and processes nutrients (vitamins, minerals, carbohydrates, fats, proteins, and water) from foods and helps pass waste material out of the body. The small intestine is a long tube that connects the stomach to the large intestine.   It folds many times to fit inside the abdomen. EnlargeThe small intestine connects the stomach and the colon. It includes the duodenum, jejunum, and ileum. The types of cancer found in the small intestine are adenocarcinoma, sarcoma,  carcinoid tumors,  gastrointestinal stromal tumor, and lymphoma. This summary discusses adenocarcinoma and leiomyosarcoma (a type of  sarcoma).  Adenocarcinoma starts in glandular cells in the lining of the small intestine and is the most common type of  small intestine cancer. Most of these tumors occur in the part of the small intestine near the stomach. They may grow and block the intestine. Leiomyosarcoma starts in the smooth muscle cells of the small intestine. Most of these tumors occur in the part of the small intestine near the large intestine.  For more information on small intestine cancer, see the following: Anything that increases your risk of getting a disease is called a risk factor.  Having a risk factor does not mean that you will get cancer; not having risk factors doesn't mean that you will not get cancer. Talk with your doctor if you think you may be at risk.  Risk factors for small intestine cancer include the following: These and other signs and symptoms may be caused by small  intestine cancer or by other conditions.  Check with your doctor if you have any of the  following:   Procedures that make pictures of the small intestine and the area around it help diagnose small intestine cancer and show how far the cancer has spread. The process used to find out if cancer cells have spread within and around the small intestine is called staging. In order to plan treatment, it is important to know  the type of small intestine cancer and whether the tumor can be removed by surgery. Tests and procedures to detect, diagnose, and stage small intestine cancer are usually done at the same time. The following tests and procedures may be used:  The prognosis and treatment options depend on the following:   Staging is used to find out how far the cancer has spread, but treatment decisions are not based on stage. See the General Information section for a description of tests and procedures used to detect, diagnose, and stage small intestine cancer. Cancer can spread through tissue, the lymph system, and the blood: When cancer spreads to another part of the body, it is called metastasis. Cancer cells break away from where they began (the primary tumor) and travel through the lymph system or blood. The metastatic tumor is the same type of cancer as the primary tumor. For example, if  small intestine cancer spreads to the liver, the cancer cells in the liver are actually small intestine cancer cells. The disease is metastatic small intestine cancer, not liver cancer. Treatment depends on whether the tumor can be removed by surgery and if the cancer is being treated as a primary tumor or is metastatic cancer. The cancer may come back in the small intestine or in other parts of the body. Different types of treatments are available for patients with small  intestine cancer. Some treatments are standard (the currently used treatment), and some are being tested in clinical trials.  A treatment clinical trial is a research study meant to help improve current treatments or obtain information on new treatments for patients with cancer. When clinical trials show that a new treatment is better than the   standard treatment,  the new treatment may become the standard treatment. Patients may want to think about taking part in a clinical trial. Some clinical trials are open only to patients who have not started treatment. Surgery is the most common treatment of small intestine cancer. One of the following types of surgery may be done: After the doctor removes all the cancer that can be seen at the time of the surgery, some patients may be given radiation therapy after surgery to kill any cancer cells that are left. Treatment given after the surgery, to lower the risk that the cancer will come back, is called adjuvant therapy. Radiation therapy is a cancer treatment that uses high-energy x-rays or other types of radiation to kill cancer cells or keep them from growing. There are two types of radiation therapy: The way the radiation therapy is given depends on the type of the cancer being treated.  External radiation therapy is used to treat small intestine cancer.  Chemotherapy is a cancer treatment that uses drugs to stop the growth of cancer cells, either by killing the cells or by stopping them from dividing.   When chemotherapy is taken by mouth or injected into a vein or muscle, the drugs enter the bloodstream and can reach cancer cells throughout the body (systemic chemotherapy). When chemotherapy is placed directly into the cerebrospinal fluid, an organ, or a body cavity such as the abdomen, the drugs mainly affect cancer cells in those areas (regional chemotherapy).  The way the chemotherapy is given depends on the type and stage of the cancer being treated.  This summary section describes treatments that are being studied in clinical trials. It may not mention every new treatment being studied. Information about clinical trials is available from the NCI website. Immunotherapy is a treatment that uses the patient's immune system to fight cancer.  Substances made by the body or made in a laboratory are used to boost, direct, or restore the body's natural defenses against cancer.  This cancer treatment is a type of biologic therapy. Radiosensitizers are drugs that make tumor cells more sensitive to radiation therapy. Combining radiation therapy with radiosensitizers may kill more tumor cells. For information about side effects caused by treatment for cancer, see our Side Effects page. For some patients, taking part in a clinical trial may be the best treatment choice. Clinical trials are part of the cancer research process. Clinical trials are done to find out if new cancer  treatments are safe and effective or better than the standard treatment. Many of today's standard treatments for cancer are based on earlier clinical trials. Patients who take part in a clinical trial may receive the standard treatment or be among the first  to receive a new treatment. Patients who take part in clinical trials also help improve the way cancer will be treated in the future. Even when clinical trials do not lead to effective new treatments, they often answer important questions and help move research forward. Some clinical trials only include patients who have not yet received treatment. Other trials test treatments for patients whose cancer has not gotten better. There are also clinical trials that test new ways to stop cancer from recurring (coming back) or reduce the side effects of cancer treatment. Clinical trials are taking place in many parts of the country. Information about clinical trials supported by NCI can be found on NCIâ€™s clinical trials search webpage. Clinical trials supported by other organizations can be found on the ClinicalTrials.gov website. Some of the tests that were done to diagnose the cancer or to find out the stage of the cancer may be repeated. Some tests will be repeated in order to see how well the treatment is working. Decisions about whether to continue, change, or stop treatment may be based on the results of these tests. Some of the tests will continue to be done from time to time after treatment has ended. The results of these tests can show if your condition has changed or if the cancer has recurred (come back). These tests are sometimes called follow-up tests or check-ups. For information about the treatments listed below, see the Treatment Option Overview section. When possible, treatment of small  intestine adenocarcinoma will be surgery to remove the tumor and some of the normal tissue around it. Treatment of small  intestine adenocarcinoma that cannot be removed by surgery may include the following: Use our clinical trial search to find NCI-supported cancer clinical trials that are accepting patients. You can search for trials based on the type of cancer, the age of the patient, and where the trials are being done. General information  about clinical trials is also available. For information about the treatments listed below, see the Treatment Option Overview section. When possible, treatment of small intestine leiomyosarcoma will be surgery to remove the tumor and some of the normal tissue around it. Treatment of small  intestine leiomyosarcoma that cannot be removed by surgery may include the following: Use our clinical trial search to find NCI-supported cancer clinical trials that are accepting patients. You can search for trials based on the type of cancer, the age of the patient, and where the trials are being done. General information  about clinical trials is also available. For information about the treatments listed below, see the Treatment Option Overview section. Treatment of recurrent small intestine cancer that has spread to other parts of the body is usually a clinical trial of new anticancer drugs or immunotherapy. Treatment of locally recurrent small  intestine cancer may include the following: Use our clinical trial search to find NCI-supported cancer clinical trials that are accepting patients. You can search for trials based on the type of cancer, the age of the patient, and where the trials are being done. General information  about clinical trials is also available. For more information from the National Cancer Institute about  small intestine cancer, see the following: For general cancer information and other resources from the National Cancer Institute, see the following: Physician Data Query (PDQ) is the National Cancer Institute's (NCI's) comprehensive cancer information database. The PDQ database contains summaries of the latest published information on cancer prevention, detection, genetics, treatment, supportive care, and complementary and alternative medicine. Most summaries come in two versions. The health professional versions have detailed information written in technical language. The patient versions are written in easy-to-understand, nontechnical language. Both versions have cancer information that is accurate and up to date and most versions are also available in Spanish. PDQ is a service of the NCI. The NCI is part of the National Institutes of Health (NIH). NIH is the federal governmentâ€™s center of biomedical research.  The PDQ summaries are based on an independent review of the medical literature. They are not policy statements of the NCI or the NIH. This PDQ cancer information summary has current information about the treatment of small intestine cancer.  It is meant to inform and help patients, families, and caregivers. It does not give formal guidelines or recommendations for making decisions about health care. Editorial Boards write the PDQ cancer information summaries and keep them up to date. These Boards are made up of experts in cancer treatment and other specialties related to cancer. The summaries are reviewed regularly and changes are made when there is new information. The date on each summary (\"\"Updated\"\") is the date of the most recent change. The information in this patient summary was taken from the health professional version, which is reviewed regularly and updated as needed, by the PDQ Adult Treatment Editorial Board. A clinical trial is a study to answer a scientific question, such as whether one treatment is better than another. Trials are based on past studies and what has been learned in the laboratory. Each trial answers certain scientific questions in order to find new and better ways to help cancer patients. During treatment clinical trials, information is collected about the effects of a new treatment and how well it works. If a clinical trial shows that a new treatment is better than one currently being used, the new treatment may become \"\"standard.\"\" Patients may want to think about taking part in a clinical trial. Some clinical trials are open only to patients who have not started treatment. Clinical trials can be found online at NCI's website. For more information, call the Cancer Information Service (CIS), NCI's contact center, at 1-800-4-CANCER (1-800-422-6237). PDQ is a registered trademark. The content of PDQ documents can be used freely as text. It cannot be identified as an NCI PDQ cancer information summary unless the whole summary is shown and it is updated regularly. However, a user would be allowed to write a sentence such as â€œNCIâ€™s PDQ cancer information summary about breast cancer prevention states the risks in the following way: [include excerpt from the summary].â€ The best way to cite this PDQ summary is: PDQÂ® Adult Treatment Editorial Board. PDQ Small Intestine Cancer Treatment. Bethesda, MD: National Cancer Institute. Updated  <MM/DD/YYYY>. Available at: https://www.cancer.gov/types/small-intestine/patient/small-intestine-treatment-pdq.  Accessed <MM/DD/YYYY>. [PMID: 26389461] Images in this summary are used with permission of the author(s), artist, and/or publisher for use in the PDQ summaries only. If you want to use an image from a PDQ summary and you are not using the whole summary, you must get permission from the owner. It cannot be given by the National Cancer Institute. Information about using the images in this summary, along with many other images related to cancer can be found in Visuals Online. Visuals Online is a collection of more than 3,000 scientific images. The information in these summaries should not be used to make decisions about insurance reimbursement. More information on insurance coverage is available on Cancer.gov on the Managing Cancer Care page. More information about contacting us or receiving help with the Cancer.gov website can be found on our Contact Us for Help page. Questions can also be submitted to Cancer.gov through the websiteâ€™s E-mail Us. If you would like to reproduce some or all of this content, see Reuse of NCI Information for guidance about copyright and permissions. In the case of permitted digital reproduction, please credit the National Cancer Institute as the source and link to the original NCI product using the original product's title; e.g., â€œSmall Intestine Cancer Treatment (PDQÂ®)â€“Patient Version was originally published by the National Cancer Institute.â€ Want to use this content on your website or other digital platform? Our syndication services page shows you how.\",\n",
    "question = \"What is small intestine cancer?\"\n",
    "\n",
    "# Generate answer\n",
    "answer = generate_answer(context, question)\n",
    "print(\"Generated Answer:\", answer)\n"
   ]
  },
  {
   "cell_type": "code",
   "execution_count": null,
   "id": "0f0530c2-9eef-4ace-a871-9b43aa30861f",
   "metadata": {},
   "outputs": [],
   "source": []
  },
  {
   "cell_type": "code",
   "execution_count": 1,
   "id": "df539750-93fc-4e29-89a5-45c03f740b4d",
   "metadata": {},
   "outputs": [],
   "source": [
    "import pandas as pd\n",
    "from sklearn.model_selection import train_test_split\n",
    "import torch\n",
    "from torch.utils.data import DataLoader, Dataset\n",
    "from transformers import T5Tokenizer, T5ForConditionalGeneration, AdamW"
   ]
  },
  {
   "cell_type": "code",
   "execution_count": 2,
   "id": "fefc7a5a-fba4-4606-98ee-5c895182f8f6",
   "metadata": {},
   "outputs": [],
   "source": [
    "# Load data from CSV file\n",
    "df = pd.read_csv('output_file.csv')\n",
    "df = df.dropna(subset=['Answers'])\n",
    "df = df.dropna(subset=['Contexts'])\n",
    "df = df.dropna(subset=['Questions'])\n",
    "df = df.head(10000)\n",
    "\n",
    "# Split the dataset into train and test sets\n",
    "train_df, test_df = train_test_split(df, test_size=0.2, random_state=42)"
   ]
  },
  {
   "cell_type": "code",
   "execution_count": 3,
   "id": "c7ac514a-6387-40a1-b81b-84f1c0aad483",
   "metadata": {},
   "outputs": [
    {
     "data": {
      "text/html": [
       "<div>\n",
       "<style scoped>\n",
       "    .dataframe tbody tr th:only-of-type {\n",
       "        vertical-align: middle;\n",
       "    }\n",
       "\n",
       "    .dataframe tbody tr th {\n",
       "        vertical-align: top;\n",
       "    }\n",
       "\n",
       "    .dataframe thead th {\n",
       "        text-align: right;\n",
       "    }\n",
       "</style>\n",
       "<table border=\"1\" class=\"dataframe\">\n",
       "  <thead>\n",
       "    <tr style=\"text-align: right;\">\n",
       "      <th></th>\n",
       "      <th>Contexts</th>\n",
       "      <th>Questions</th>\n",
       "      <th>Answers</th>\n",
       "    </tr>\n",
       "  </thead>\n",
       "  <tbody>\n",
       "    <tr>\n",
       "      <th>0</th>\n",
       "      <td>The small intestine is part of the\\n\\t\\t  body...</td>\n",
       "      <td>What is (are) Small Intestine Cancer ?</td>\n",
       "      <td>Key Points\\n                    - Small intest...</td>\n",
       "    </tr>\n",
       "    <tr>\n",
       "      <th>1</th>\n",
       "      <td>The small intestine is part of the\\n\\t\\t  body...</td>\n",
       "      <td>Who is at risk for Small Intestine Cancer? ?</td>\n",
       "      <td>Diet and health history can affect the risk of...</td>\n",
       "    </tr>\n",
       "    <tr>\n",
       "      <th>2</th>\n",
       "      <td>The small intestine is part of the\\n\\t\\t  body...</td>\n",
       "      <td>What are the symptoms of Small Intestine Cancer ?</td>\n",
       "      <td>Signs and symptoms of small intestine cancer i...</td>\n",
       "    </tr>\n",
       "    <tr>\n",
       "      <th>3</th>\n",
       "      <td>The small intestine is part of the\\n\\t\\t  body...</td>\n",
       "      <td>How to diagnose Small Intestine Cancer ?</td>\n",
       "      <td>Tests that examine the small intestine are use...</td>\n",
       "    </tr>\n",
       "    <tr>\n",
       "      <th>4</th>\n",
       "      <td>The small intestine is part of the\\n\\t\\t  body...</td>\n",
       "      <td>What is the outlook for Small Intestine Cancer ?</td>\n",
       "      <td>Certain factors affect prognosis (chance of re...</td>\n",
       "    </tr>\n",
       "    <tr>\n",
       "      <th>...</th>\n",
       "      <td>...</td>\n",
       "      <td>...</td>\n",
       "      <td>...</td>\n",
       "    </tr>\n",
       "    <tr>\n",
       "      <th>34547</th>\n",
       "      <td>MORE INFORMATION In the United States, more th...</td>\n",
       "      <td>Who is at risk for Peripheral Artery Disease? ?</td>\n",
       "      <td>Peripheral artery disease (P.A.D.) affects mil...</td>\n",
       "    </tr>\n",
       "    <tr>\n",
       "      <th>34548</th>\n",
       "      <td>MORE INFORMATION In the United States, more th...</td>\n",
       "      <td>What are the symptoms of Peripheral Artery Dis...</td>\n",
       "      <td>Many people who have peripheral artery disease...</td>\n",
       "    </tr>\n",
       "    <tr>\n",
       "      <th>34549</th>\n",
       "      <td>MORE INFORMATION In the United States, more th...</td>\n",
       "      <td>How to diagnose Peripheral Artery Disease ?</td>\n",
       "      <td>Peripheral artery disease (P.A.D.) is diagnose...</td>\n",
       "    </tr>\n",
       "    <tr>\n",
       "      <th>34550</th>\n",
       "      <td>MORE INFORMATION In the United States, more th...</td>\n",
       "      <td>What are the treatments for Peripheral Artery ...</td>\n",
       "      <td>Treatments for peripheral artery disease (P.A....</td>\n",
       "    </tr>\n",
       "    <tr>\n",
       "      <th>34551</th>\n",
       "      <td>MORE INFORMATION In the United States, more th...</td>\n",
       "      <td>How to prevent Peripheral Artery Disease ?</td>\n",
       "      <td>Taking action to control your risk factors can...</td>\n",
       "    </tr>\n",
       "  </tbody>\n",
       "</table>\n",
       "<p>8808 rows × 3 columns</p>\n",
       "</div>"
      ],
      "text/plain": [
       "                                                Contexts  \\\n",
       "0      The small intestine is part of the\\n\\t\\t  body...   \n",
       "1      The small intestine is part of the\\n\\t\\t  body...   \n",
       "2      The small intestine is part of the\\n\\t\\t  body...   \n",
       "3      The small intestine is part of the\\n\\t\\t  body...   \n",
       "4      The small intestine is part of the\\n\\t\\t  body...   \n",
       "...                                                  ...   \n",
       "34547  MORE INFORMATION In the United States, more th...   \n",
       "34548  MORE INFORMATION In the United States, more th...   \n",
       "34549  MORE INFORMATION In the United States, more th...   \n",
       "34550  MORE INFORMATION In the United States, more th...   \n",
       "34551  MORE INFORMATION In the United States, more th...   \n",
       "\n",
       "                                               Questions  \\\n",
       "0                 What is (are) Small Intestine Cancer ?   \n",
       "1           Who is at risk for Small Intestine Cancer? ?   \n",
       "2      What are the symptoms of Small Intestine Cancer ?   \n",
       "3               How to diagnose Small Intestine Cancer ?   \n",
       "4       What is the outlook for Small Intestine Cancer ?   \n",
       "...                                                  ...   \n",
       "34547    Who is at risk for Peripheral Artery Disease? ?   \n",
       "34548  What are the symptoms of Peripheral Artery Dis...   \n",
       "34549        How to diagnose Peripheral Artery Disease ?   \n",
       "34550  What are the treatments for Peripheral Artery ...   \n",
       "34551         How to prevent Peripheral Artery Disease ?   \n",
       "\n",
       "                                                 Answers  \n",
       "0      Key Points\\n                    - Small intest...  \n",
       "1      Diet and health history can affect the risk of...  \n",
       "2      Signs and symptoms of small intestine cancer i...  \n",
       "3      Tests that examine the small intestine are use...  \n",
       "4      Certain factors affect prognosis (chance of re...  \n",
       "...                                                  ...  \n",
       "34547  Peripheral artery disease (P.A.D.) affects mil...  \n",
       "34548  Many people who have peripheral artery disease...  \n",
       "34549  Peripheral artery disease (P.A.D.) is diagnose...  \n",
       "34550  Treatments for peripheral artery disease (P.A....  \n",
       "34551  Taking action to control your risk factors can...  \n",
       "\n",
       "[8808 rows x 3 columns]"
      ]
     },
     "execution_count": 3,
     "metadata": {},
     "output_type": "execute_result"
    }
   ],
   "source": [
    "df"
   ]
  },
  {
   "cell_type": "code",
   "execution_count": 4,
   "id": "14c1f172-8855-4f1b-957e-3eebf2635c58",
   "metadata": {},
   "outputs": [
    {
     "name": "stderr",
     "output_type": "stream",
     "text": [
      "You are using the default legacy behaviour of the <class 'transformers.models.t5.tokenization_t5.T5Tokenizer'>. If you see this, DO NOT PANIC! This is expected, and simply means that the `legacy` (previous) behavior will be used so nothing changes for you. If you want to use the new behaviour, set `legacy=False`. This should only be set if you understand what it means, and thouroughly read the reason why this was added as explained in https://github.com/huggingface/transformers/pull/24565\n"
     ]
    }
   ],
   "source": [
    "# Initialize tokenizer and model\n",
    "tokenizer = T5Tokenizer.from_pretrained('t5-small')\n",
    "model = T5ForConditionalGeneration.from_pretrained('t5-small')\n"
   ]
  },
  {
   "cell_type": "code",
   "execution_count": 5,
   "id": "b8e0c44a-a015-492c-b8d6-fb43e2b40554",
   "metadata": {},
   "outputs": [],
   "source": [
    "class QADataset(Dataset):\n",
    "    def __init__(self, data, tokenizer, max_length=512):\n",
    "        self.data = data.dropna(subset=['Answers'])\n",
    "        self.tokenizer = tokenizer\n",
    "        self.max_length = max_length\n",
    "\n",
    "    def __len__(self):\n",
    "        return len(self.data)\n",
    "\n",
    "    def __getitem__(self, idx):\n",
    "        context = self.data['Contexts'].iloc[idx]\n",
    "        question = self.data['Questions'].iloc[idx]\n",
    "        answer = self.data['Answers'].iloc[idx]\n",
    "\n",
    "        input_text = f\"context: {context} question: {question}\"\n",
    "        target_text = answer\n",
    "\n",
    "        # Encode input and target texts without any maximum length limit\n",
    "        input_ids = self.tokenizer.encode(input_text, add_special_tokens=True, return_tensors='pt')\n",
    "        target_ids = self.tokenizer.encode(target_text, add_special_tokens=True, return_tensors='pt')\n",
    "\n",
    "        return {\n",
    "            'input_ids': input_ids.squeeze(),\n",
    "            'attention_mask': input_ids.squeeze().gt(0),\n",
    "            'labels': target_ids.squeeze()\n",
    "        }\n"
   ]
  },
  {
   "cell_type": "code",
   "execution_count": 6,
   "id": "a8720521-7bee-4549-99b9-e052f30fae50",
   "metadata": {},
   "outputs": [],
   "source": [
    "from torch.nn.utils.rnn import pad_sequence\n",
    "\n",
    "def collate_fn(batch):\n",
    "    input_ids = [item['input_ids'] for item in batch]\n",
    "    attention_masks = [item['attention_mask'] for item in batch]\n",
    "    labels = [item['labels'] for item in batch]\n",
    "\n",
    "    # Pad input_ids, attention_masks, and labels to the same length\n",
    "    padded_input_ids = pad_sequence(input_ids, batch_first=True, padding_value=tokenizer.pad_token_id)\n",
    "    padded_attention_masks = pad_sequence(attention_masks, batch_first=True, padding_value=0)  # Assuming 0 for padding token\n",
    "    padded_labels = pad_sequence(labels, batch_first=True, padding_value=tokenizer.pad_token_id)\n",
    "\n",
    "    return {\n",
    "        'input_ids': padded_input_ids,\n",
    "        'attention_mask': padded_attention_masks,\n",
    "        'labels': padded_labels\n",
    "    }\n"
   ]
  },
  {
   "cell_type": "code",
   "execution_count": 7,
   "id": "36d06e96-2c2a-41a0-a13b-8770b30f6b94",
   "metadata": {},
   "outputs": [],
   "source": [
    "\n",
    "train_dataset = QADataset(train_df, tokenizer)\n",
    "test_dataset = QADataset(test_df, tokenizer)\n",
    "batch_size = 1\n",
    "train_loader = DataLoader(train_dataset, batch_size=batch_size, shuffle=True, collate_fn=collate_fn)\n",
    "test_loader = DataLoader(test_dataset, batch_size=batch_size, collate_fn=collate_fn)\n"
   ]
  },
  {
   "cell_type": "code",
   "execution_count": 8,
   "id": "108cf1dd-6019-4761-87ac-f9b00ed35d6f",
   "metadata": {},
   "outputs": [
    {
     "name": "stderr",
     "output_type": "stream",
     "text": [
      "/opt/miniconda3/lib/python3.10/site-packages/transformers/optimization.py:411: FutureWarning: This implementation of AdamW is deprecated and will be removed in a future version. Use the PyTorch implementation torch.optim.AdamW instead, or set `no_deprecation_warning=True` to disable this warning\n",
      "  warnings.warn(\n"
     ]
    },
    {
     "data": {
      "text/plain": [
       "T5ForConditionalGeneration(\n",
       "  (shared): Embedding(32128, 512)\n",
       "  (encoder): T5Stack(\n",
       "    (embed_tokens): Embedding(32128, 512)\n",
       "    (block): ModuleList(\n",
       "      (0): T5Block(\n",
       "        (layer): ModuleList(\n",
       "          (0): T5LayerSelfAttention(\n",
       "            (SelfAttention): T5Attention(\n",
       "              (q): Linear(in_features=512, out_features=512, bias=False)\n",
       "              (k): Linear(in_features=512, out_features=512, bias=False)\n",
       "              (v): Linear(in_features=512, out_features=512, bias=False)\n",
       "              (o): Linear(in_features=512, out_features=512, bias=False)\n",
       "              (relative_attention_bias): Embedding(32, 8)\n",
       "            )\n",
       "            (layer_norm): T5LayerNorm()\n",
       "            (dropout): Dropout(p=0.1, inplace=False)\n",
       "          )\n",
       "          (1): T5LayerFF(\n",
       "            (DenseReluDense): T5DenseActDense(\n",
       "              (wi): Linear(in_features=512, out_features=2048, bias=False)\n",
       "              (wo): Linear(in_features=2048, out_features=512, bias=False)\n",
       "              (dropout): Dropout(p=0.1, inplace=False)\n",
       "              (act): ReLU()\n",
       "            )\n",
       "            (layer_norm): T5LayerNorm()\n",
       "            (dropout): Dropout(p=0.1, inplace=False)\n",
       "          )\n",
       "        )\n",
       "      )\n",
       "      (1-5): 5 x T5Block(\n",
       "        (layer): ModuleList(\n",
       "          (0): T5LayerSelfAttention(\n",
       "            (SelfAttention): T5Attention(\n",
       "              (q): Linear(in_features=512, out_features=512, bias=False)\n",
       "              (k): Linear(in_features=512, out_features=512, bias=False)\n",
       "              (v): Linear(in_features=512, out_features=512, bias=False)\n",
       "              (o): Linear(in_features=512, out_features=512, bias=False)\n",
       "            )\n",
       "            (layer_norm): T5LayerNorm()\n",
       "            (dropout): Dropout(p=0.1, inplace=False)\n",
       "          )\n",
       "          (1): T5LayerFF(\n",
       "            (DenseReluDense): T5DenseActDense(\n",
       "              (wi): Linear(in_features=512, out_features=2048, bias=False)\n",
       "              (wo): Linear(in_features=2048, out_features=512, bias=False)\n",
       "              (dropout): Dropout(p=0.1, inplace=False)\n",
       "              (act): ReLU()\n",
       "            )\n",
       "            (layer_norm): T5LayerNorm()\n",
       "            (dropout): Dropout(p=0.1, inplace=False)\n",
       "          )\n",
       "        )\n",
       "      )\n",
       "    )\n",
       "    (final_layer_norm): T5LayerNorm()\n",
       "    (dropout): Dropout(p=0.1, inplace=False)\n",
       "  )\n",
       "  (decoder): T5Stack(\n",
       "    (embed_tokens): Embedding(32128, 512)\n",
       "    (block): ModuleList(\n",
       "      (0): T5Block(\n",
       "        (layer): ModuleList(\n",
       "          (0): T5LayerSelfAttention(\n",
       "            (SelfAttention): T5Attention(\n",
       "              (q): Linear(in_features=512, out_features=512, bias=False)\n",
       "              (k): Linear(in_features=512, out_features=512, bias=False)\n",
       "              (v): Linear(in_features=512, out_features=512, bias=False)\n",
       "              (o): Linear(in_features=512, out_features=512, bias=False)\n",
       "              (relative_attention_bias): Embedding(32, 8)\n",
       "            )\n",
       "            (layer_norm): T5LayerNorm()\n",
       "            (dropout): Dropout(p=0.1, inplace=False)\n",
       "          )\n",
       "          (1): T5LayerCrossAttention(\n",
       "            (EncDecAttention): T5Attention(\n",
       "              (q): Linear(in_features=512, out_features=512, bias=False)\n",
       "              (k): Linear(in_features=512, out_features=512, bias=False)\n",
       "              (v): Linear(in_features=512, out_features=512, bias=False)\n",
       "              (o): Linear(in_features=512, out_features=512, bias=False)\n",
       "            )\n",
       "            (layer_norm): T5LayerNorm()\n",
       "            (dropout): Dropout(p=0.1, inplace=False)\n",
       "          )\n",
       "          (2): T5LayerFF(\n",
       "            (DenseReluDense): T5DenseActDense(\n",
       "              (wi): Linear(in_features=512, out_features=2048, bias=False)\n",
       "              (wo): Linear(in_features=2048, out_features=512, bias=False)\n",
       "              (dropout): Dropout(p=0.1, inplace=False)\n",
       "              (act): ReLU()\n",
       "            )\n",
       "            (layer_norm): T5LayerNorm()\n",
       "            (dropout): Dropout(p=0.1, inplace=False)\n",
       "          )\n",
       "        )\n",
       "      )\n",
       "      (1-5): 5 x T5Block(\n",
       "        (layer): ModuleList(\n",
       "          (0): T5LayerSelfAttention(\n",
       "            (SelfAttention): T5Attention(\n",
       "              (q): Linear(in_features=512, out_features=512, bias=False)\n",
       "              (k): Linear(in_features=512, out_features=512, bias=False)\n",
       "              (v): Linear(in_features=512, out_features=512, bias=False)\n",
       "              (o): Linear(in_features=512, out_features=512, bias=False)\n",
       "            )\n",
       "            (layer_norm): T5LayerNorm()\n",
       "            (dropout): Dropout(p=0.1, inplace=False)\n",
       "          )\n",
       "          (1): T5LayerCrossAttention(\n",
       "            (EncDecAttention): T5Attention(\n",
       "              (q): Linear(in_features=512, out_features=512, bias=False)\n",
       "              (k): Linear(in_features=512, out_features=512, bias=False)\n",
       "              (v): Linear(in_features=512, out_features=512, bias=False)\n",
       "              (o): Linear(in_features=512, out_features=512, bias=False)\n",
       "            )\n",
       "            (layer_norm): T5LayerNorm()\n",
       "            (dropout): Dropout(p=0.1, inplace=False)\n",
       "          )\n",
       "          (2): T5LayerFF(\n",
       "            (DenseReluDense): T5DenseActDense(\n",
       "              (wi): Linear(in_features=512, out_features=2048, bias=False)\n",
       "              (wo): Linear(in_features=2048, out_features=512, bias=False)\n",
       "              (dropout): Dropout(p=0.1, inplace=False)\n",
       "              (act): ReLU()\n",
       "            )\n",
       "            (layer_norm): T5LayerNorm()\n",
       "            (dropout): Dropout(p=0.1, inplace=False)\n",
       "          )\n",
       "        )\n",
       "      )\n",
       "    )\n",
       "    (final_layer_norm): T5LayerNorm()\n",
       "    (dropout): Dropout(p=0.1, inplace=False)\n",
       "  )\n",
       "  (lm_head): Linear(in_features=512, out_features=32128, bias=False)\n",
       ")"
      ]
     },
     "execution_count": 8,
     "metadata": {},
     "output_type": "execute_result"
    }
   ],
   "source": [
    "# Initialize optimizer\n",
    "optimizer = AdamW(model.parameters(), lr=1e-4)\n",
    "\n",
    "# Training loop\n",
    "num_epochs = 50\n",
    "device = torch.device('cuda:1' if torch.cuda.is_available() else 'cpu')\n",
    "model.to(device)\n",
    "model.train()"
   ]
  },
  {
   "cell_type": "code",
   "execution_count": 9,
   "id": "9d9ae046-9044-492b-ba5f-8803735fbff8",
   "metadata": {},
   "outputs": [
    {
     "name": "stdout",
     "output_type": "stream",
     "text": [
      "Tue Oct 31 15:58:07 2023       \n",
      "+---------------------------------------------------------------------------------------+\n",
      "| NVIDIA-SMI 535.86.10              Driver Version: 535.86.10    CUDA Version: 12.2     |\n",
      "|-----------------------------------------+----------------------+----------------------+\n",
      "| GPU  Name                 Persistence-M | Bus-Id        Disp.A | Volatile Uncorr. ECC |\n",
      "| Fan  Temp   Perf          Pwr:Usage/Cap |         Memory-Usage | GPU-Util  Compute M. |\n",
      "|                                         |                      |               MIG M. |\n",
      "|=========================================+======================+======================|\n",
      "|   0  Quadro RTX 8000                On  | 00000000:25:00.0 Off |                    0 |\n",
      "| N/A   39C    P0              59W / 250W |    505MiB / 46080MiB |      0%      Default |\n",
      "|                                         |                      |                  N/A |\n",
      "+-----------------------------------------+----------------------+----------------------+\n",
      "|   1  Quadro RTX 8000                On  | 00000000:81:00.0 Off |                    0 |\n",
      "| N/A   47C    P0              61W / 250W |    403MiB / 46080MiB |      0%      Default |\n",
      "|                                         |                      |                  N/A |\n",
      "+-----------------------------------------+----------------------+----------------------+\n",
      "|   2  Quadro RTX 8000                On  | 00000000:E2:00.0 Off |                    0 |\n",
      "| N/A   34C    P8              14W / 250W |      3MiB / 46080MiB |      0%      Default |\n",
      "|                                         |                      |                  N/A |\n",
      "+-----------------------------------------+----------------------+----------------------+\n",
      "                                                                                         \n",
      "+---------------------------------------------------------------------------------------+\n",
      "| Processes:                                                                            |\n",
      "|  GPU   GI   CI        PID   Type   Process name                            GPU Memory |\n",
      "|        ID   ID                                                             Usage      |\n",
      "|=======================================================================================|\n",
      "|    0   N/A  N/A    444072      C   /opt/miniconda3/bin/python                  250MiB |\n",
      "|    0   N/A  N/A    450552      C   /opt/miniconda3/bin/python                  252MiB |\n",
      "|    1   N/A  N/A    864480      C   /opt/miniconda3/bin/python                  400MiB |\n",
      "+---------------------------------------------------------------------------------------+\n"
     ]
    }
   ],
   "source": [
    "!nvidia-smi"
   ]
  },
  {
   "cell_type": "code",
   "execution_count": 10,
   "id": "527d7630-0033-46dd-b684-4862b2dbd5bb",
   "metadata": {},
   "outputs": [
    {
     "data": {
      "text/plain": [
       "device(type='cuda', index=1)"
      ]
     },
     "execution_count": 10,
     "metadata": {},
     "output_type": "execute_result"
    }
   ],
   "source": [
    "device"
   ]
  },
  {
   "cell_type": "code",
   "execution_count": 11,
   "id": "651e4eec-a505-4b35-9cce-0fc40b755908",
   "metadata": {},
   "outputs": [
    {
     "name": "stderr",
     "output_type": "stream",
     "text": [
      "Training:   0%|          | 0/7046 [00:00<?, ?it/s]Token indices sequence length is longer than the specified maximum sequence length for this model (899 > 512). Running this sequence through the model will result in indexing errors\n",
      "Training: 7047it [07:01, 16.71it/s, Epoch=10, Loss=1.05]t/s, Epoch=10, Test Loss=0.888]\n",
      "Testing: 1763it [01:02, 28.35it/s, Epoch=10, Test Loss=0.888]                          \n"
     ]
    }
   ],
   "source": [
    "from tqdm import tqdm\n",
    "\n",
    "# Define the number of epochs\n",
    "num_epochs = 10\n",
    "\n",
    "# Create tqdm progress bars for training and testing loops\n",
    "train_bar = tqdm(total=len(train_loader), desc='Training', position=0)\n",
    "test_bar = tqdm(total=len(test_loader), desc='Testing', position=0)\n",
    "\n",
    "for epoch in range(num_epochs):\n",
    "    total_loss = 0\n",
    "    train_bar.n = 0\n",
    "    train_bar.last_print_n = 0\n",
    "    train_bar.reset()\n",
    "\n",
    "    for batch in train_loader:\n",
    "        input_ids = batch['input_ids'].to(device)\n",
    "        attention_mask = batch['attention_mask'].to(device)\n",
    "        labels = batch['labels'].to(device)\n",
    "        # Truncate input sequences to fit within the model's maximum sequence length\n",
    "        max_length = 512\n",
    "        input_ids = input_ids[:, :max_length]\n",
    "        attention_mask = attention_mask[:, :max_length]\n",
    "        labels = labels[:, :max_length]\n",
    "        outputs = model(input_ids=input_ids, attention_mask=attention_mask, labels=labels)\n",
    "\n",
    "        loss = outputs.loss\n",
    "        total_loss += loss.item()\n",
    "\n",
    "        optimizer.zero_grad()\n",
    "        loss.backward()\n",
    "        optimizer.step()\n",
    "\n",
    "        train_bar.set_postfix({'Epoch': epoch + 1, 'Loss': total_loss / (train_bar.last_print_n + 1)})\n",
    "        train_bar.update()\n",
    "\n",
    "    train_bar.set_postfix({'Epoch': epoch + 1, 'Loss': total_loss / len(train_loader)})\n",
    "    train_bar.update()\n",
    "\n",
    "    # Evaluate on test data\n",
    "    model.eval()\n",
    "    total_test_loss = 0\n",
    "    test_bar.n = 0\n",
    "    test_bar.last_print_n = 0\n",
    "    test_bar.reset()\n",
    "\n",
    "    with torch.no_grad():\n",
    "        for batch in test_loader:\n",
    "            input_ids = batch['input_ids'].to(device)\n",
    "            attention_mask = batch['attention_mask'].to(device)\n",
    "            labels = batch['labels'].to(device)\n",
    "\n",
    "            outputs = model(input_ids=input_ids, attention_mask=attention_mask, labels=labels)\n",
    "            loss = outputs.loss\n",
    "            total_test_loss += loss.item()\n",
    "\n",
    "            test_bar.set_postfix({'Epoch': epoch + 1, 'Test Loss': total_test_loss / (test_bar.last_print_n + 1)})\n",
    "            test_bar.update()\n",
    "\n",
    "    test_bar.set_postfix({'Epoch': epoch + 1, 'Test Loss': total_test_loss / len(test_loader)})\n",
    "    test_bar.update()\n",
    "\n",
    "    model.train()\n",
    "\n",
    "# Close the tqdm progress bars\n",
    "train_bar.close()\n",
    "test_bar.close()\n"
   ]
  },
  {
   "cell_type": "code",
   "execution_count": null,
   "id": "2163e5e4-a4e7-4006-a4bb-3491c18aa495",
   "metadata": {},
   "outputs": [],
   "source": [
    "for epoch in range(num_epochs):\n",
    "    total_loss = 0\n",
    "    for batch in train_loader:\n",
    "        input_ids = batch['input_ids'].to(device)\n",
    "        attention_mask = batch['attention_mask'].to(device)\n",
    "        labels = batch['labels'].to(device)\n",
    "        # Truncate input sequences to fit within the model's maximum sequence length\n",
    "        max_length = 512\n",
    "        input_ids = input_ids[:, :max_length]\n",
    "        attention_mask = attention_mask[:, :max_length]\n",
    "        labels = labels[:, :max_length]\n",
    "        outputs = model(input_ids=input_ids, attention_mask=attention_mask, labels=labels)\n",
    "\n",
    "        loss = outputs.loss\n",
    "        total_loss += loss.item()\n",
    "\n",
    "        optimizer.zero_grad()\n",
    "        loss.backward()\n",
    "        optimizer.step()\n",
    "\n",
    "    average_loss = total_loss / len(train_loader)\n",
    "    print(f'Training Epoch {epoch + 1}/{num_epochs}, Loss: {average_loss:.4f}')\n",
    "\n",
    "    # Evaluate on test data\n",
    "    model.eval()\n",
    "    total_test_loss = 0\n",
    "    with torch.no_grad():\n",
    "        for batch in test_loader:\n",
    "            input_ids = batch['input_ids'].to(device)\n",
    "            attention_mask = batch['attention_mask'].to(device)\n",
    "            labels = batch['labels'].to(device)\n",
    "\n",
    "            outputs = model(input_ids=input_ids, attention_mask=attention_mask, labels=labels)\n",
    "            loss = outputs.loss\n",
    "            total_test_loss += loss.item()\n",
    "\n",
    "    average_test_loss = total_test_loss / len(test_loader)\n",
    "    print(f'Test Loss: {average_test_loss:.4f}')\n",
    "    model.train()\n"
   ]
  },
  {
   "cell_type": "code",
   "execution_count": 12,
   "id": "a75392ec-8bf9-40d3-be1a-97455a3a2e0a",
   "metadata": {},
   "outputs": [
    {
     "data": {
      "text/plain": [
       "('generative_qa_model/tokenizer_config.json',\n",
       " 'generative_qa_model/special_tokens_map.json',\n",
       " 'generative_qa_model/spiece.model',\n",
       " 'generative_qa_model/added_tokens.json')"
      ]
     },
     "execution_count": 12,
     "metadata": {},
     "output_type": "execute_result"
    }
   ],
   "source": [
    "# Save the trained model\n",
    "model.save_pretrained('generative_qa_model')\n",
    "tokenizer.save_pretrained('generative_qa_model')"
   ]
  },
  {
   "cell_type": "code",
   "execution_count": 13,
   "id": "1f82f798-3025-40c3-b65a-2c8e2281fde4",
   "metadata": {},
   "outputs": [
    {
     "name": "stdout",
     "output_type": "stream",
     "text": [
      "Generated Answer: Signs and symptoms of small intestine cancer include fever, weight loss, and weight loss. These and other signs and symptoms may be caused by small intestine cancer or by other conditions. Check with your doctor if you have any\n"
     ]
    }
   ],
   "source": [
    "import torch\n",
    "from transformers import T5Tokenizer, T5ForConditionalGeneration\n",
    "\n",
    "# Load tokenizer and model\n",
    "tokenizer = T5Tokenizer.from_pretrained('generative_qa_model')\n",
    "model = T5ForConditionalGeneration.from_pretrained('generative_qa_model')\n",
    "\n",
    "def generate_answer(context, question):\n",
    "    # Split the input context into chunks of maximum sequence length\n",
    "    max_seq_length = tokenizer.model_max_length\n",
    "    chunks = [context[i:i+max_seq_length] for i in range(0, len(context), max_seq_length)]\n",
    "\n",
    "    # Generate answers for each chunk\n",
    "    generated_answers = []\n",
    "    for chunk in chunks:\n",
    "        input_text = f\"context: {chunk} question: {question}\"\n",
    "        input_ids = tokenizer.encode(input_text, return_tensors=\"pt\", max_length=max_seq_length, truncation=True)\n",
    "\n",
    "        # Generate answer\n",
    "        with torch.no_grad():\n",
    "            output_ids = model.generate(input_ids, max_length=50, num_return_sequences=1)\n",
    "\n",
    "        # Decode and add the answer to the list\n",
    "        answer = tokenizer.decode(output_ids[0], skip_special_tokens=True)\n",
    "        generated_answers.append(answer)\n",
    "\n",
    "    # Concatenate answers from chunks\n",
    "    final_answer = \" \".join(generated_answers)\n",
    "    return final_answer\n",
    "\n",
    "# Example context and question\n",
    "context =  \"The small intestine is part of the bodyâ€™s digestive system, which also includes the esophagus, stomach, and large intestine. The digestive system removes and processes nutrients (vitamins, minerals, carbohydrates, fats, proteins, and water) from foods and helps pass waste material out of the body. The small intestine is a long tube that connects the stomach to the large intestine.   It folds many times to fit inside the abdomen. EnlargeThe small intestine connects the stomach and the colon. It includes the duodenum, jejunum, and ileum. The types of cancer found in the small intestine are adenocarcinoma, sarcoma,  carcinoid tumors,  gastrointestinal stromal tumor, and lymphoma. This summary discusses adenocarcinoma and leiomyosarcoma (a type of  sarcoma).  Adenocarcinoma starts in glandular cells in the lining of the small intestine and is the most common type of  small intestine cancer. Most of these tumors occur in the part of the small intestine near the stomach. They may grow and block the intestine. Leiomyosarcoma starts in the smooth muscle cells of the small intestine. Most of these tumors occur in the part of the small intestine near the large intestine.  For more information on small intestine cancer, see the following: Anything that increases your risk of getting a disease is called a risk factor.  Having a risk factor does not mean that you will get cancer; not having risk factors doesn't mean that you will not get cancer. Talk with your doctor if you think you may be at risk.  Risk factors for small intestine cancer include the following: These and other signs and symptoms may be caused by small  intestine cancer or by other conditions.  Check with your doctor if you have any of the  following:   Procedures that make pictures of the small intestine and the area around it help diagnose small intestine cancer and show how far the cancer has spread. The process used to find out if cancer cells have spread within and around the small intestine is called staging. In order to plan treatment, it is important to know  the type of small intestine cancer and whether the tumor can be removed by surgery. Tests and procedures to detect, diagnose, and stage small intestine cancer are usually done at the same time. The following tests and procedures may be used:  The prognosis and treatment options depend on the following:   Staging is used to find out how far the cancer has spread, but treatment decisions are not based on stage. See the General Information section for a description of tests and procedures used to detect, diagnose, and stage small intestine cancer. Cancer can spread through tissue, the lymph system, and the blood: When cancer spreads to another part of the body, it is called metastasis. Cancer cells break away from where they began (the primary tumor) and travel through the lymph system or blood. The metastatic tumor is the same type of cancer as the primary tumor. For example, if  small intestine cancer spreads to the liver, the cancer cells in the liver are actually small intestine cancer cells. The disease is metastatic small intestine cancer, not liver cancer. Treatment depends on whether the tumor can be removed by surgery and if the cancer is being treated as a primary tumor or is metastatic cancer. The cancer may come back in the small intestine or in other parts of the body. Different types of treatments are available for patients with small  intestine cancer. Some treatments are standard (the currently used treatment), and some are being tested in clinical trials.  A treatment clinical trial is a research study meant to help improve current treatments or obtain information on new treatments for patients with cancer. When clinical trials show that a new treatment is better than the   standard treatment,  the new treatment may become the standard treatment. Patients may want to think about taking part in a clinical trial. Some clinical trials are open only to patients who have not started treatment. Surgery is the most common treatment of small intestine cancer. One of the following types of surgery may be done: After the doctor removes all the cancer that can be seen at the time of the surgery, some patients may be given radiation therapy after surgery to kill any cancer cells that are left. Treatment given after the surgery, to lower the risk that the cancer will come back, is called adjuvant therapy. Radiation therapy is a cancer treatment that uses high-energy x-rays or other types of radiation to kill cancer cells or keep them from growing. There are two types of radiation therapy: The way the radiation therapy is given depends on the type of the cancer being treated.  External radiation therapy is used to treat small intestine cancer.  Chemotherapy is a cancer treatment that uses drugs to stop the growth of cancer cells, either by killing the cells or by stopping them from dividing.   When chemotherapy is taken by mouth or injected into a vein or muscle, the drugs enter the bloodstream and can reach cancer cells throughout the body (systemic chemotherapy). When chemotherapy is placed directly into the cerebrospinal fluid, an organ, or a body cavity such as the abdomen, the drugs mainly affect cancer cells in those areas (regional chemotherapy).  The way the chemotherapy is given depends on the type and stage of the cancer being treated.  This summary section describes treatments that are being studied in clinical trials. It may not mention every new treatment being studied. Information about clinical trials is available from the NCI website. Immunotherapy is a treatment that uses the patient's immune system to fight cancer.  Substances made by the body or made in a laboratory are used to boost, direct, or restore the body's natural defenses against cancer.  This cancer treatment is a type of biologic therapy. Radiosensitizers are drugs that make tumor cells more sensitive to radiation therapy. Combining radiation therapy with radiosensitizers may kill more tumor cells. For information about side effects caused by treatment for cancer, see our Side Effects page. For some patients, taking part in a clinical trial may be the best treatment choice. Clinical trials are part of the cancer research process. Clinical trials are done to find out if new cancer  treatments are safe and effective or better than the standard treatment. Many of today's standard treatments for cancer are based on earlier clinical trials. Patients who take part in a clinical trial may receive the standard treatment or be among the first  to receive a new treatment. Patients who take part in clinical trials also help improve the way cancer will be treated in the future. Even when clinical trials do not lead to effective new treatments, they often answer important questions and help move research forward. Some clinical trials only include patients who have not yet received treatment. Other trials test treatments for patients whose cancer has not gotten better. There are also clinical trials that test new ways to stop cancer from recurring (coming back) or reduce the side effects of cancer treatment. Clinical trials are taking place in many parts of the country. Information about clinical trials supported by NCI can be found on NCIâ€™s clinical trials search webpage. Clinical trials supported by other organizations can be found on the ClinicalTrials.gov website. Some of the tests that were done to diagnose the cancer or to find out the stage of the cancer may be repeated. Some tests will be repeated in order to see how well the treatment is working. Decisions about whether to continue, change, or stop treatment may be based on the results of these tests. Some of the tests will continue to be done from time to time after treatment has ended. The results of these tests can show if your condition has changed or if the cancer has recurred (come back). These tests are sometimes called follow-up tests or check-ups. For information about the treatments listed below, see the Treatment Option Overview section. When possible, treatment of small  intestine adenocarcinoma will be surgery to remove the tumor and some of the normal tissue around it. Treatment of small  intestine adenocarcinoma that cannot be removed by surgery may include the following: Use our clinical trial search to find NCI-supported cancer clinical trials that are accepting patients. You can search for trials based on the type of cancer, the age of the patient, and where the trials are being done. General information  about clinical trials is also available. For information about the treatments listed below, see the Treatment Option Overview section. When possible, treatment of small intestine leiomyosarcoma will be surgery to remove the tumor and some of the normal tissue around it. Treatment of small  intestine leiomyosarcoma that cannot be removed by surgery may include the following: Use our clinical trial search to find NCI-supported cancer clinical trials that are accepting patients. You can search for trials based on the type of cancer, the age of the patient, and where the trials are being done. General information  about clinical trials is also available. For information about the treatments listed below, see the Treatment Option Overview section. Treatment of recurrent small intestine cancer that has spread to other parts of the body is usually a clinical trial of new anticancer drugs or immunotherapy. Treatment of locally recurrent small  intestine cancer may include the following: Use our clinical trial search to find NCI-supported cancer clinical trials that are accepting patients. You can search for trials based on the type of cancer, the age of the patient, and where the trials are being done. General information  about clinical trials is also available. For more information from the National Cancer Institute about  small intestine cancer, see the following: For general cancer information and other resources from the National Cancer Institute, see the following: Physician Data Query (PDQ) is the National Cancer Institute's (NCI's) comprehensive cancer information database. The PDQ database contains summaries of the latest published information on cancer prevention, detection, genetics, treatment, supportive care, and complementary and alternative medicine. Most summaries come in two versions. The health professional versions have detailed information written in technical language. The patient versions are written in easy-to-understand, nontechnical language. Both versions have cancer information that is accurate and up to date and most versions are also available in Spanish. PDQ is a service of the NCI. The NCI is part of the National Institutes of Health (NIH). NIH is the federal governmentâ€™s center of biomedical research.  The PDQ summaries are based on an independent review of the medical literature. They are not policy statements of the NCI or the NIH. This PDQ cancer information summary has current information about the treatment of small intestine cancer.  It is meant to inform and help patients, families, and caregivers. It does not give formal guidelines or recommendations for making decisions about health care. Editorial Boards write the PDQ cancer information summaries and keep them up to date. These Boards are made up of experts in cancer treatment and other specialties related to cancer. The summaries are reviewed regularly and changes are made when there is new information. The date on each summary (\"\"Updated\"\") is the date of the most recent change. The information in this patient summary was taken from the health professional version, which is reviewed regularly and updated as needed, by the PDQ Adult Treatment Editorial Board. A clinical trial is a study to answer a scientific question, such as whether one treatment is better than another. Trials are based on past studies and what has been learned in the laboratory. Each trial answers certain scientific questions in order to find new and better ways to help cancer patients. During treatment clinical trials, information is collected about the effects of a new treatment and how well it works. If a clinical trial shows that a new treatment is better than one currently being used, the new treatment may become \"\"standard.\"\" Patients may want to think about taking part in a clinical trial. Some clinical trials are open only to patients who have not started treatment. Clinical trials can be found online at NCI's website. For more information, call the Cancer Information Service (CIS), NCI's contact center, at 1-800-4-CANCER (1-800-422-6237). PDQ is a registered trademark. The content of PDQ documents can be used freely as text. It cannot be identified as an NCI PDQ cancer information summary unless the whole summary is shown and it is updated regularly. However, a user would be allowed to write a sentence such as â€œNCIâ€™s PDQ cancer information summary about breast cancer prevention states the risks in the following way: [include excerpt from the summary].â€ The best way to cite this PDQ summary is: PDQÂ® Adult Treatment Editorial Board. PDQ Small Intestine Cancer Treatment. Bethesda, MD: National Cancer Institute. Updated  <MM/DD/YYYY>. Available at: https://www.cancer.gov/types/small-intestine/patient/small-intestine-treatment-pdq.  Accessed <MM/DD/YYYY>. [PMID: 26389461] Images in this summary are used with permission of the author(s), artist, and/or publisher for use in the PDQ summaries only. If you want to use an image from a PDQ summary and you are not using the whole summary, you must get permission from the owner. It cannot be given by the National Cancer Institute. Information about using the images in this summary, along with many other images related to cancer can be found in Visuals Online. Visuals Online is a collection of more than 3,000 scientific images. The information in these summaries should not be used to make decisions about insurance reimbursement. More information on insurance coverage is available on Cancer.gov on the Managing Cancer Care page. More information about contacting us or receiving help with the Cancer.gov website can be found on our Contact Us for Help page. Questions can also be submitted to Cancer.gov through the websiteâ€™s E-mail Us. If you would like to reproduce some or all of this content, see Reuse of NCI Information for guidance about copyright and permissions. In the case of permitted digital reproduction, please credit the National Cancer Institute as the source and link to the original NCI product using the original product's title; e.g., â€œSmall Intestine Cancer Treatment (PDQÂ®)â€“Patient Version was originally published by the National Cancer Institute.â€ Want to use this content on your website or other digital platform? Our syndication services page shows you how.\",\n",
    "question = \"What to do for Financial Help for Diabetes Care ?\"\n",
    "\n",
    "# Generate answer\n",
    "answer = generate_answer(context, question)\n",
    "print(\"Generated Answer:\", answer)"
   ]
  },
  {
   "cell_type": "code",
   "execution_count": null,
   "id": "1aa80121-725d-4689-a7bb-08b78a89075d",
   "metadata": {},
   "outputs": [],
   "source": []
  }
 ],
 "metadata": {
  "kernelspec": {
   "display_name": "Python 3.10 (default)",
   "language": "python",
   "name": "python3"
  },
  "language_info": {
   "codemirror_mode": {
    "name": "ipython",
    "version": 3
   },
   "file_extension": ".py",
   "mimetype": "text/x-python",
   "name": "python",
   "nbconvert_exporter": "python",
   "pygments_lexer": "ipython3",
   "version": "3.10.12"
  }
 },
 "nbformat": 4,
 "nbformat_minor": 5
}
